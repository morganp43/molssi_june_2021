{
 "cells": [
  {
   "cell_type": "markdown",
   "metadata": {},
   "source": [
    "# Homework 1\n",
    "open up 03_Prod.mdout file, grab energies from each step, print to file"
   ]
  },
  {
   "cell_type": "code",
   "execution_count": 1,
   "metadata": {},
   "outputs": [],
   "source": [
    "import os"
   ]
  },
  {
   "cell_type": "code",
   "execution_count": 2,
   "metadata": {},
   "outputs": [],
   "source": [
    "filename = os.path.join('data','03_Prod.mdout')\n",
    "with open(filename) as f: #automatically closes file when done. default is to read\n",
    "    data = f.readlines()"
   ]
  },
  {
   "cell_type": "code",
   "execution_count": 2,
   "metadata": {},
   "outputs": [],
   "source": [
    "import os\n",
    "\n",
    "filename = os.path.join('data','03_Prod.mdout')\n",
    "with open(filename) as f: #automatically closes file when done. default is to read\n",
    "    data = f.readlines()\n",
    "\n",
    "with open('homework1.txt','w') as output: #opening file for writing\n",
    "    output.write('Homework1\\n\\n')\n",
    "    \n",
    "count = 1\n",
    "for line in data:\n",
    "    if 'Etot' in line:\n",
    "        val = line.split()[2]\n",
    "        with open('homework1.txt','a') as output:\n",
    "            output.write(F'{count:3} : {val}\\n')\n",
    "        count += 1"
   ]
  },
  {
   "cell_type": "code",
   "execution_count": null,
   "metadata": {},
   "outputs": [],
   "source": []
  },
  {
   "cell_type": "code",
   "execution_count": null,
   "metadata": {},
   "outputs": [],
   "source": []
  }
 ],
 "metadata": {
  "kernelspec": {
   "display_name": "Python 3",
   "language": "python",
   "name": "python3"
  },
  "language_info": {
   "codemirror_mode": {
    "name": "ipython",
    "version": 3
   },
   "file_extension": ".py",
   "mimetype": "text/x-python",
   "name": "python",
   "nbconvert_exporter": "python",
   "pygments_lexer": "ipython3",
   "version": "3.7.3"
  }
 },
 "nbformat": 4,
 "nbformat_minor": 2
}
