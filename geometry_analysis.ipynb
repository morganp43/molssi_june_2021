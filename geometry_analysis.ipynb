{
 "cells": [
  {
   "cell_type": "markdown",
   "metadata": {},
   "source": [
    "# Homework 2\n",
    "Calculating Distances in water molecule"
   ]
  },
  {
   "cell_type": "code",
   "execution_count": 1,
   "metadata": {},
   "outputs": [],
   "source": [
    "import os,numpy"
   ]
  },
  {
   "cell_type": "code",
   "execution_count": 64,
   "metadata": {},
   "outputs": [
    {
     "name": "stdout",
     "output_type": "stream",
     "text": [
      "data\\water.xyz\n"
     ]
    }
   ],
   "source": [
    "mol_file = os.path.join('data','water.xyz')\n",
    "print(mol_file)"
   ]
  },
  {
   "cell_type": "code",
   "execution_count": 10,
   "metadata": {},
   "outputs": [],
   "source": [
    "data = numpy.genfromtxt(fname=mol_file,delimiter='',dtype='unicode',skip_header=2)"
   ]
  },
  {
   "cell_type": "code",
   "execution_count": 11,
   "metadata": {},
   "outputs": [],
   "source": [
    "num_atoms=len(data)"
   ]
  },
  {
   "cell_type": "code",
   "execution_count": 20,
   "metadata": {},
   "outputs": [],
   "source": [
    "label = data[:,0] #all rows, first col\n",
    "coords = data[:,1:4].astype(float) #get float array of coords"
   ]
  },
  {
   "cell_type": "code",
   "execution_count": 25,
   "metadata": {},
   "outputs": [
    {
     "name": "stdout",
     "output_type": "stream",
     "text": [
      "H1-O    : 0.969\n",
      "H2-O    : 0.969\n"
     ]
    }
   ],
   "source": [
    "for i in range(0,num_atoms):\n",
    "    for j in range(0,i):\n",
    "        dist_val = numpy.sqrt( (coords[i][0]-coords[j][0])**2 + (coords[i][1]-coords[j][1])**2 + (coords[i][2]-coords[j][2])**2 )\n",
    "        if dist_val < 1.5: #arbitrary cutoff so that atoms not truly \"bonded\" aren't printed\n",
    "            print(F'{label[i]}-{label[j]:4} : {dist_val:.3f}')"
   ]
  },
  {
   "cell_type": "markdown",
   "metadata": {},
   "source": [
    "## Writing and Using Functions"
   ]
  },
  {
   "cell_type": "code",
   "execution_count": 26,
   "metadata": {},
   "outputs": [],
   "source": [
    "#def function_name(parameters):\n",
    "#    body of the function\n",
    "#    write code using paramaters to calcualte something\n",
    "#    return some_value"
   ]
  },
  {
   "cell_type": "code",
   "execution_count": 30,
   "metadata": {},
   "outputs": [],
   "source": [
    "def dist(coords1,coords2): #when designing functions, aim for simple inputs and simple outputs\n",
    "    value = numpy.sqrt( (coords1[0]-coords2[0])**2 + (coords1[1]-coords2[1])**2 + (coords1[2]-coords2[2])**2 )\n",
    "    return value"
   ]
  },
  {
   "cell_type": "code",
   "execution_count": 31,
   "metadata": {},
   "outputs": [
    {
     "data": {
      "text/plain": [
       "1.0"
      ]
     },
     "execution_count": 31,
     "metadata": {},
     "output_type": "execute_result"
    }
   ],
   "source": [
    "dist([0,0,0],[0,0,1])"
   ]
  },
  {
   "cell_type": "code",
   "execution_count": 32,
   "metadata": {},
   "outputs": [
    {
     "name": "stdout",
     "output_type": "stream",
     "text": [
      "H1-O    : 0.969\n",
      "H2-O    : 0.969\n"
     ]
    }
   ],
   "source": [
    "for i in range(0,num_atoms):\n",
    "    for j in range(0,i):\n",
    "        dist_val = dist(coords[i],coords[j])\n",
    "        if dist_val < 1.5: #arbitrary cutoff so that atoms not truly \"bonded\" aren't printed\n",
    "            print(F'{label[i]}-{label[j]:4} : {dist_val:.3f}')"
   ]
  },
  {
   "cell_type": "code",
   "execution_count": 39,
   "metadata": {},
   "outputs": [],
   "source": [
    "#creat function for checking bond length\n",
    "def bond_check(atom_distance):\n",
    "    if atom_distance <= 1.5:\n",
    "        return True\n",
    "    else:\n",
    "        return False"
   ]
  },
  {
   "cell_type": "code",
   "execution_count": 42,
   "metadata": {},
   "outputs": [
    {
     "data": {
      "text/plain": [
       "False"
      ]
     },
     "execution_count": 42,
     "metadata": {},
     "output_type": "execute_result"
    }
   ],
   "source": [
    "#using new function\n",
    "bond_check(1.7)"
   ]
  },
  {
   "cell_type": "code",
   "execution_count": 43,
   "metadata": {},
   "outputs": [],
   "source": [
    "#modify bond check function to take min and max length as input\n",
    "def bond_check(mind,maxd,atom_distance):\n",
    "    if atom_distance <= maxd and atom_distance > mind:\n",
    "        return True\n",
    "    else:\n",
    "        return False"
   ]
  },
  {
   "cell_type": "code",
   "execution_count": 45,
   "metadata": {},
   "outputs": [
    {
     "data": {
      "text/plain": [
       "True"
      ]
     },
     "execution_count": 45,
     "metadata": {},
     "output_type": "execute_result"
    }
   ],
   "source": [
    "bond_check(0.0,1.7,1.7)"
   ]
  },
  {
   "cell_type": "code",
   "execution_count": 58,
   "metadata": {},
   "outputs": [],
   "source": [
    "#modify bond check to create default min and max if not provided by user\n",
    "\n",
    "def bond_check(atom_distance,mind=0.0,maxd=1.5): #variables with default values MUST come after those with no defaul  ts\n",
    "    \"\"\"\n",
    "    This function checks if a distance is a bond based on a minimum and maximum.\n",
    "    Inputs: distance, minimum length, maximum length\n",
    "    Defaults: minimum: 0.0 angstroms, maximum: 1.5 angstroms\n",
    "    \"\"\"\n",
    "    if atom_distance <= maxd and atom_distance > mind:\n",
    "        return True\n",
    "    else:\n",
    "        return False"
   ]
  },
  {
   "cell_type": "code",
   "execution_count": 49,
   "metadata": {},
   "outputs": [
    {
     "data": {
      "text/plain": [
       "False"
      ]
     },
     "execution_count": 49,
     "metadata": {},
     "output_type": "execute_result"
    }
   ],
   "source": [
    "bond_check(1.7)"
   ]
  },
  {
   "cell_type": "code",
   "execution_count": 52,
   "metadata": {},
   "outputs": [
    {
     "data": {
      "text/plain": [
       "False"
      ]
     },
     "execution_count": 52,
     "metadata": {},
     "output_type": "execute_result"
    }
   ],
   "source": [
    "bond_check(1.7,mind=0.0)"
   ]
  },
  {
   "cell_type": "code",
   "execution_count": 53,
   "metadata": {},
   "outputs": [
    {
     "data": {
      "text/plain": [
       "True"
      ]
     },
     "execution_count": 53,
     "metadata": {},
     "output_type": "execute_result"
    }
   ],
   "source": [
    "bond_check(1.7,maxd=2.0) #note variables with default values being changes don't have to be listed in order"
   ]
  },
  {
   "cell_type": "code",
   "execution_count": 59,
   "metadata": {},
   "outputs": [
    {
     "name": "stdout",
     "output_type": "stream",
     "text": [
      "Help on function bond_check in module __main__:\n",
      "\n",
      "bond_check(atom_distance, mind=0.0, maxd=1.5)\n",
      "    This function checks if a distance is a bond based on a minimum and maximum.\n",
      "    Inputs: distance, minimum length, maximum length\n",
      "    Defaults: minimum: 0.0 angstroms, maximum: 1.5 angstroms\n",
      "\n"
     ]
    }
   ],
   "source": [
    "help(bond_check)"
   ]
  },
  {
   "cell_type": "code",
   "execution_count": 63,
   "metadata": {},
   "outputs": [
    {
     "name": "stdout",
     "output_type": "stream",
     "text": [
      "H1-O    : 0.969\n",
      "H2-O    : 0.969\n"
     ]
    }
   ],
   "source": [
    "#modifying code again\n",
    "for i in range(0,num_atoms):\n",
    "    for j in range(0,i):\n",
    "        dist_val = dist(coords[i],coords[j])\n",
    "        if bond_check(dist_val) is True: \n",
    "            print(F'{label[i]}-{label[j]:4} : {dist_val:.3f}')"
   ]
  },
  {
   "cell_type": "code",
   "execution_count": 71,
   "metadata": {},
   "outputs": [],
   "source": [
    "#create function for opening and processing xyz file. Have function accept filepath for input\n",
    "def open_xyz(file_path):\n",
    "    \"\"\"\n",
    "    Opens a standard xyz file.\n",
    "    Returns the symbols as a 1D array of strings and the coords as a 2D array of floats.\n",
    "    \"\"\"\n",
    "    all_data = numpy.genfromtxt(fname=file_path,dtype='unicode',skip_header=2) #don't need delimiter, because breaking on blank space is the default\n",
    "    atom_label = all_data[:,0] #all rows, first col\n",
    "    atom_coords = all_data[:,1:4].astype(float) #get float array of coords\n",
    "    return atom_label,atom_coords"
   ]
  },
  {
   "cell_type": "code",
   "execution_count": 70,
   "metadata": {},
   "outputs": [
    {
     "name": "stdout",
     "output_type": "stream",
     "text": [
      "['O' 'H1' 'H2']\n",
      "\n",
      "[[ 0.       -0.007156  0.965491]\n",
      " [-0.        0.001486 -0.003471]\n",
      " [ 0.        0.931026  1.207929]]\n"
     ]
    }
   ],
   "source": [
    "mol_file = os.path.join('data','water.xyz')\n",
    "label,coords = open_xyz(mol_file)\n",
    "print(label)\n",
    "print()\n",
    "print(coords)"
   ]
  },
  {
   "cell_type": "code",
   "execution_count": 72,
   "metadata": {},
   "outputs": [
    {
     "name": "stdout",
     "output_type": "stream",
     "text": [
      "Help on function open_xyz in module __main__:\n",
      "\n",
      "open_xyz(file_path)\n",
      "    Opens a standard xyz file.\n",
      "    Returns the symbols as a 1D array of strings and the coords as a 2D array of floats.\n",
      "\n"
     ]
    }
   ],
   "source": [
    "help(open_xyz)"
   ]
  },
  {
   "cell_type": "code",
   "execution_count": 74,
   "metadata": {},
   "outputs": [
    {
     "name": "stdout",
     "output_type": "stream",
     "text": [
      "O-H1   : 0.969\n",
      "O-H2   : 0.969\n"
     ]
    }
   ],
   "source": [
    "import os,numpy\n",
    "\n",
    "def dist(coords1,coords2): #when designing functions, aim for simple inputs and simple outputs\n",
    "    value = numpy.sqrt( (coords1[0]-coords2[0])**2 + (coords1[1]-coords2[1])**2 + (coords1[2]-coords2[2])**2 )\n",
    "    return value\n",
    "\n",
    "def bond_check(atom_distance,mind=0.0,maxd=1.5): #variables with default values MUST come after those with no defaults\n",
    "    \"\"\"\n",
    "    This function checks if a distance is a bond based on a minimum and maximum.\n",
    "    Inputs: distance, minimum length, maximum length\n",
    "    Defaults: minimum: 0.0 angstroms, maximum: 1.5 angstroms\n",
    "    \"\"\"\n",
    "    if atom_distance <= maxd and atom_distance > mind:\n",
    "        return True\n",
    "    else:\n",
    "        return False\n",
    "    \n",
    "def open_xyz(file_path):\n",
    "    \"\"\"\n",
    "    Opens a standard xyz file.\n",
    "    Returns the symbols as a 1D array of strings and the coords as a 2D array of floats.\n",
    "    \"\"\"\n",
    "    all_data = numpy.genfromtxt(fname=file_path,dtype='unicode',skip_header=2) #don't need delimiter, because breaking on blank space is the default\n",
    "    atom_label = all_data[:,0] #all rows, first col\n",
    "    atom_coords = all_data[:,1:4].astype(float) #get float array of coords\n",
    "    return atom_label,atom_coords\n",
    "\n",
    "file_location = os.path.join('data','water.xyz')\n",
    "label,coords = open_xyz(file_location)\n",
    "\n",
    "num_atoms = len(label)\n",
    "\n",
    "for i in range(0,num_atoms):\n",
    "    for j in range(0,i):\n",
    "        dist_val = dist(coords[i],coords[j])\n",
    "        if bond_check(dist_val) is True: \n",
    "            print(F'{label[j]}-{label[i]:4} : {dist_val:.3f}')"
   ]
  },
  {
   "cell_type": "code",
   "execution_count": null,
   "metadata": {},
   "outputs": [],
   "source": []
  }
 ],
 "metadata": {
  "kernelspec": {
   "display_name": "Python 3",
   "language": "python",
   "name": "python3"
  },
  "language_info": {
   "codemirror_mode": {
    "name": "ipython",
    "version": 3
   },
   "file_extension": ".py",
   "mimetype": "text/x-python",
   "name": "python",
   "nbconvert_exporter": "python",
   "pygments_lexer": "ipython3",
   "version": "3.7.3"
  }
 },
 "nbformat": 4,
 "nbformat_minor": 2
}
